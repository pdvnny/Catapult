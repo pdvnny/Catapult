{
 "cells": [
  {
   "cell_type": "markdown",
   "metadata": {
    "pycharm": {
     "name": "#%% md\n"
    }
   },
   "source": [
    "## Parker Dunn\n",
    "# Exploring Rugby player tracking data from Catapult\n",
    "\n",
    "### Started on 7 March 2022\n",
    "### Updates\n",
    "* March 7 -> getting things setup; mostly working in `datapreparation.py`\n",
    "* March 8 -> continuing to work on *eda*\n",
    "    * Working with time to understand the structure of the data relative to the match\n",
    "    * Working through bugs with DataFrames:\n",
    "        1. trying to keep the column information readily available in GameData class\n",
    "        2. Trying to separate the full player data into two halves\n",
    "\n",
    "\n",
    "* March 18 -> needed to add a feature to the data and save a csv of the variation of the data that I want to use in another script"
   ]
  },
  {
   "cell_type": "code",
   "execution_count": 1,
   "metadata": {
    "collapsed": false,
    "jupyter": {
     "outputs_hidden": false
    },
    "pycharm": {
     "name": "#%%\n"
    }
   },
   "outputs": [
    {
     "name": "stdout",
     "output_type": "stream",
     "text": [
      "Length of 1st Half:\n",
      " cs: 2474\n",
      " Clock: 41:14.0\n",
      "Length of 2nd Half:\n",
      " cs: 2502\n",
      " Clock: 41:42.0\n",
      "\n",
      "FIRST HALF\n",
      "Start: Sat Feb 29 09:59:36 2020\n",
      "End: Sat Feb 29 10:40:50 2020\n"
     ]
    }
   ],
   "source": [
    "# IMPORTS\n",
    "import pandas as pd\n",
    "import os\n",
    "from datapreparation import *\n",
    "from time import ctime\n",
    "from matplotlib import pyplot\n",
    "\n",
    "# OTHER SETUP\n",
    "\n",
    "dir_list = os.listdir(\"./raw_data\")\n",
    "\n",
    "# Used for debugging ... this is not the problem\n",
    "# print(dir_list, type(dir_list))\n",
    "# for file in dir_list:\n",
    "#     print(file)\n",
    "\n",
    "\n",
    "\n",
    "# CREATING GAME DATA OBJECT\n",
    "\n",
    "# ALL MANUALLY ENTERED TIMES ARE IN SECONDS\n",
    "h1_start = 1582988376\n",
    "h1_end = 1582990850\n",
    "h1_length = h1_end - h1_start       # <- this is in seconds\n",
    "h1_clock = centiseconds_to_clock(h1_length*100)\n",
    "\n",
    "print(f\"Length of 1st Half:\\n cs: {h1_length}\\n Clock: {h1_clock[0]}:{h1_clock[1]}.{h1_clock[2]}\")\n",
    "\n",
    "h2_start = 1582991486\n",
    "h2_end = 1582993988\n",
    "h2_length = h2_end - h2_start       # <- this is in seconds\n",
    "h2_clock = centiseconds_to_clock(h2_length*100)\n",
    "\n",
    "game1 = GameData(h1_start, h1_end, h2_start, h2_end)\n",
    "\n",
    "# EXPLORING THE TIMING INFO\n",
    "print(f\"Length of 2nd Half:\\n cs: {h2_length}\\n Clock: {h2_clock[0]}:{h2_clock[1]}.{h2_clock[2]}\")\n",
    "\n",
    "# LOOKING DATE & TIME OF MATCH BASED ON UNIX TIME\n",
    "print(\"\\nFIRST HALF\")\n",
    "print(f\"Start: {ctime(h1_start)}\")\n",
    "print(f\"End: {ctime(h1_end)}\")\n",
    "# print(\"--> No idea why the date above is returning 1970 <--\") <-- FIXED THIS"
   ]
  },
  {
   "cell_type": "markdown",
   "metadata": {
    "pycharm": {
     "name": "#%% md\n"
    }
   },
   "source": [
    "__Want to double check my work on the timing stuff__\n",
    "25 minutes seems like a short half, so I decided to check the tape on the game\n",
    "\n",
    "1st Half in Video\n",
    "* Start: 2:45\n",
    "* End: approx. 31:27\n",
    "\n",
    "Notes about 1st Half:\n",
    "* There seems to be a long break at the end of the half where nothing is happening\n",
    "* Both teams are waiting for a final kick at the end of the half that takes a few minutes\n",
    "* WAIT NEVERMIND -> *full game play is happening until at least 30:34*\n",
    "* Actual Game Time for First Half --> 30:34 - 2:45 = approx 28:00\n",
    "\n",
    "2nd Half in Video\n",
    "* Start:\n",
    "* End:"
   ]
  },
  {
   "cell_type": "code",
   "execution_count": 2,
   "metadata": {
    "collapsed": false,
    "jupyter": {
     "outputs_hidden": false
    },
    "pycharm": {
     "name": "#%%\n"
    }
   },
   "outputs": [
    {
     "name": "stdout",
     "output_type": "stream",
     "text": [
      "                             athlete_id  device_id first_name last_name  \\\n",
      "0  214f9c05-cae3-4291-9a84-4d144755de90      16710     George     Baird   \n",
      "1  214f9c05-cae3-4291-9a84-4d144755de90      16710     George     Baird   \n",
      "2  214f9c05-cae3-4291-9a84-4d144755de90      16710     George     Baird   \n",
      "3  214f9c05-cae3-4291-9a84-4d144755de90      16710     George     Baird   \n",
      "4  214f9c05-cae3-4291-9a84-4d144755de90      16710     George     Baird   \n",
      "\n",
      "  jersey  cs_time_unix   X   Y  accel  vel  smoothed_load    period  \\\n",
      "0    G23  158298837600 NaN NaN    NaN  NaN            NaN  1st Half   \n",
      "1    G23  158298837610 NaN NaN    NaN  NaN          0.180  1st Half   \n",
      "2    G23  158298837620 NaN NaN    NaN  NaN          0.210  1st Half   \n",
      "3    G23  158298837630 NaN NaN    NaN  NaN          0.240  1st Half   \n",
      "4    G23  158298837640 NaN NaN    NaN  NaN          0.255  1st Half   \n",
      "\n",
      "  position_name  \n",
      "0          Back  \n",
      "1          Back  \n",
      "2          Back  \n",
      "3          Back  \n",
      "4          Back  \n"
     ]
    }
   ],
   "source": [
    "# Loading the Data\n",
    "\n",
    "full_game_player_dds = []\n",
    "for file in dir_list:\n",
    "    if file[-4:]==\".csv\":\n",
    "        player_dd = load_to_dask_df(file)\n",
    "        # print(type(player_dd))\n",
    "        full_game_player_dds.append(player_dd)\n",
    "\n",
    "# debugging above\n",
    "\n",
    "# print(len(full_game_player_dds)) # <- returned 15 ... also not the issue\n",
    "# for player in full_game_player_dds:\n",
    "#     # print(type(player)) # <-- 'dask.dataframe.core.DataFrame'\n",
    "#     print(str(player.athlete_id.unique().compute())) # <-- does return athlete_id object\n",
    "#     # print(player.columns) # <--- aaahhhh this returns an Index Object ... not a\n",
    "#     print(list(player.columns.array))\n",
    "#     # print(player.columns.data) # <-- this doesn't work\n",
    "\n",
    "print(full_game_player_dds[0].head())"
   ]
  },
  {
   "cell_type": "code",
   "execution_count": 3,
   "metadata": {
    "collapsed": false,
    "jupyter": {
     "outputs_hidden": false
    },
    "pycharm": {
     "name": "#%%\n"
    }
   },
   "outputs": [
    {
     "name": "stdout",
     "output_type": "stream",
     "text": [
      "Printing features now\n",
      "df name: 16710 -> ['athlete_id', 'device_id', 'first_name', 'last_name', 'jersey', 'cs_time_unix', 'X', 'Y', 'accel', 'vel', 'smoothed_load', 'period', 'position_name']\n",
      "df name: 11354 -> ['athlete_id', 'device_id', 'first_name', 'last_name', 'jersey', 'cs_time_unix', 'X', 'Y', 'accel', 'vel', 'smoothed_load', 'period', 'position_name']\n",
      "df name: 11616 -> ['athlete_id', 'device_id', 'first_name', 'last_name', 'jersey', 'cs_time_unix', 'X', 'Y', 'accel', 'vel', 'smoothed_load', 'period', 'position_name']\n",
      "df name: 14114 -> ['athlete_id', 'device_id', 'first_name', 'last_name', 'jersey', 'cs_time_unix', 'X', 'Y', 'accel', 'vel', 'smoothed_load', 'period', 'position_name']\n",
      "df name: 15952 -> ['athlete_id', 'device_id', 'first_name', 'last_name', 'jersey', 'cs_time_unix', 'X', 'Y', 'accel', 'vel', 'smoothed_load', 'period', 'position_name']\n",
      "df name: 16697 -> ['athlete_id', 'device_id', 'first_name', 'last_name', 'jersey', 'cs_time_unix', 'X', 'Y', 'accel', 'vel', 'smoothed_load', 'period', 'position_name']\n",
      "df name: 16440 -> ['athlete_id', 'device_id', 'first_name', 'last_name', 'jersey', 'cs_time_unix', 'X', 'Y', 'accel', 'vel', 'smoothed_load', 'period', 'position_name']\n",
      "df name: 13116 -> ['athlete_id', 'device_id', 'first_name', 'last_name', 'jersey', 'cs_time_unix', 'X', 'Y', 'accel', 'vel', 'smoothed_load', 'period', 'position_name']\n",
      "df name: 16011 -> ['athlete_id', 'device_id', 'first_name', 'last_name', 'jersey', 'cs_time_unix', 'X', 'Y', 'accel', 'vel', 'smoothed_load', 'period', 'position_name']\n",
      "df name: 15463 -> ['athlete_id', 'device_id', 'first_name', 'last_name', 'jersey', 'cs_time_unix', 'X', 'Y', 'accel', 'vel', 'smoothed_load', 'period', 'position_name']\n",
      "df name: 17820 -> ['athlete_id', 'device_id', 'first_name', 'last_name', 'jersey', 'cs_time_unix', 'X', 'Y', 'accel', 'vel', 'smoothed_load', 'period', 'position_name']\n",
      "df name: 16748 -> ['athlete_id', 'device_id', 'first_name', 'last_name', 'jersey', 'cs_time_unix', 'X', 'Y', 'accel', 'vel', 'smoothed_load', 'period', 'position_name']\n",
      "df name: 12974 -> ['athlete_id', 'device_id', 'first_name', 'last_name', 'jersey', 'cs_time_unix', 'X', 'Y', 'accel', 'vel', 'smoothed_load', 'period', 'position_name']\n",
      "df name: 15853 -> ['athlete_id', 'device_id', 'first_name', 'last_name', 'jersey', 'cs_time_unix', 'X', 'Y', 'accel', 'vel', 'smoothed_load', 'period', 'position_name']\n",
      "df name: 16508 -> ['athlete_id', 'device_id', 'first_name', 'last_name', 'jersey', 'cs_time_unix', 'X', 'Y', 'accel', 'vel', 'smoothed_load', 'period', 'position_name']\n"
     ]
    }
   ],
   "source": [
    "# WRITING THE INFORMATION ABOUT THE PLAYER DataFrame to GameData object\n",
    "\n",
    "# Some debugging stuff\n",
    "# print(full_game_player_dds[0].device_id, 1)\n",
    "# print(\"\\n\")\n",
    "# print(full_game_player_dds[0].device_id.unique(), 2)\n",
    "# print(\"\\n\")\n",
    "# print(full_game_player_dds[0].device_id.unique().compute(), 3)\n",
    "\n",
    "for player in full_game_player_dds:\n",
    "    key = str(player.loc[:, \"device_id\"].compute()[0])\n",
    "    #print(\"Here is key: \", key, type(key))\n",
    "    cols = list(player.compute().columns)\n",
    "    # print(key, type(key))\n",
    "    # print(cols, type(cols))\n",
    "    game1.store_df_features(key, cols)\n",
    "\n",
    "print(\"Printing features now\")\n",
    "game1.print_df_features()"
   ]
  },
  {
   "cell_type": "markdown",
   "metadata": {
    "pycharm": {
     "name": "#%% md\n"
    }
   },
   "source": [
    "### I think both comments here are no longer applicable\n",
    "\n",
    "__Not sure if it is a problem yet that these are not \"neat\" data types (ABOVE)__\n",
    "* Feels like it would be better if then \"name\" (a.k.a. the dictionary key) was just a simple object type"
   ]
  },
  {
   "cell_type": "code",
   "execution_count": 4,
   "metadata": {
    "collapsed": false,
    "jupyter": {
     "outputs_hidden": false
    },
    "pycharm": {
     "name": "#%%\n"
    }
   },
   "outputs": [
    {
     "name": "stdout",
     "output_type": "stream",
     "text": [
      "1st Half player data: 15\n",
      "2nd Half player data: 15\n"
     ]
    }
   ],
   "source": [
    "# Splitting the player data into two halves\n",
    "\n",
    "h1_player_dfs = []\n",
    "h2_player_dfs = []\n",
    "for full_game_player in full_game_player_dds:\n",
    "    h1_player, h2_player = split_into_halves(game1, full_game_player)\n",
    "    h1_player_dfs.append(h1_player)\n",
    "    h2_player_dfs.append(h2_player)\n",
    "\n",
    "# Double checking that above is working\n",
    "print(f\"1st Half player data: {len(h1_player_dfs)}\")\n",
    "print(f\"2nd Half player data: {len(h2_player_dfs)}\")"
   ]
  },
  {
   "cell_type": "markdown",
   "metadata": {
    "pycharm": {
     "name": "#%% md\n"
    }
   },
   "source": [
    "### NEXT UP:\n",
    "* I think I will jump to another script to do some data visualization\n",
    "\n",
    "* FIRST -> Should create function to add new \"game_time\" feature that scales all of the unix times to time since the start of the half\n",
    "\n",
    "\n",
    "* When I come back...\n",
    "    1. Add a new time feature to DataFrames - plan to create a function to take care of it\n",
    "    2. Consider merging all of the data frames by half ... would make it easier to manipulate the player data within time frames\n",
    "        * Simple extract a time frame then manipulate all players in a single DataFrame\n",
    "\n",
    "UPDATE: Went back up in this script to add the \"game_time\" feature early on in this script so that the rest of the dataframes have this feature\n",
    "\n",
    "**Nevermind:** I want to add the new \"game_time\" feature only to the cleaned and split half dataframes\n"
   ]
  },
  {
   "cell_type": "markdown",
   "metadata": {},
   "source": [
    "___\n",
    "\n",
    "## Instructions for section below\n",
    "* First `for` loop writes all first half data to separate files\n",
    "    - one file for each player\n",
    "    - files end with \"\\_h1.csv\"\n",
    "\n",
    "* Second `for` loop writes all SECOND HALF data to separate files\n",
    "    - one file for each player\n",
    "    - files end with \"\\_h2.csv\""
   ]
  },
  {
   "cell_type": "code",
   "execution_count": 5,
   "metadata": {
    "collapsed": false,
    "jupyter": {
     "outputs_hidden": false
    },
    "pycharm": {
     "name": "#%%\n"
    }
   },
   "outputs": [
    {
     "name": "stdout",
     "output_type": "stream",
     "text": [
      "Here is a sample cs_time_unix: 158298837700 centiseconds\n",
      "Here is a sample of game_time: 100 centiseconds\n"
     ]
    }
   ],
   "source": [
    "# To keep files \"clean\" I'm going to write my new data frames to CSVs that I can load in another file!\n",
    "\n",
    "# ADDING A FEATURE TO ALL THE PLAYER DATA FRAMES!\n",
    "player_num = 0\n",
    "for player in h1_player_dfs:\n",
    "    game_time_col = player[\"cs_time_unix\"] - (game1.h1_start * 100) # there is a function in GameData\n",
    "                                                            # class that I could switch to using once\n",
    "                                                            # everything is \"up and running\"\n",
    "    player[\"game_time\"] = game_time_col\n",
    "    player.to_csv(\"cleaned_data/\" + \"player\" + str(player_num) + \"_h1.csv\")\n",
    "    player_num += 1\n",
    "\n",
    "#print(h1_player_dfs[0].head())\n",
    "print(f\"Here is a sample cs_time_unix: {h1_player_dfs[0].loc[10,'cs_time_unix']} centiseconds\")\n",
    "print(f\"Here is a sample of game_time: {h1_player_dfs[0].loc[10,'game_time']} centiseconds\")\n",
    "\n",
    "player_num = 0\n",
    "for player in h2_player_dfs:\n",
    "    game_time_col = player[\"cs_time_unix\"] - (game1.h2_start * 100)\n",
    "    player[\"game_time\"] = game_time_col\n",
    "    player.to_csv(\"cleaned_data/\" + \"player\" + str(player_num) + \"_h2.csv\")\n",
    "    player_num += 1\n",
    "\n",
    "#print(h2_player_dfs[0].head())"
   ]
  }
 ],
 "metadata": {
  "kernelspec": {
   "display_name": "Python 3 (ipykernel)",
   "language": "python",
   "name": "python3"
  },
  "language_info": {
   "codemirror_mode": {
    "name": "ipython",
    "version": 3
   },
   "file_extension": ".py",
   "mimetype": "text/x-python",
   "name": "python",
   "nbconvert_exporter": "python",
   "pygments_lexer": "ipython3",
   "version": "3.9.7"
  }
 },
 "nbformat": 4,
 "nbformat_minor": 4
}
