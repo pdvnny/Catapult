{
 "cells": [
  {
   "cell_type": "markdown",
   "metadata": {
    "collapsed": true,
    "pycharm": {
     "name": "#%% md\n"
    }
   },
   "source": [
    "## Parker Dunn\n",
    "# Exploring Ruby player tracking data from Catapult\n",
    "\n",
    "### Started on 7 March 2022\n",
    "### Updates\n",
    "* March 7 -> getting things setup; mostly working in `datapreparation.py`\n",
    "*"
   ]
  },
  {
   "cell_type": "code",
   "execution_count": 9,
   "outputs": [
    {
     "name": "stdout",
     "output_type": "stream",
     "text": [
      "15\n",
      "0    214f9c05-cae3-4291-9a84-4d144755de90\n",
      "Name: athlete_id, dtype: object\n",
      "0    99f9cd94-e362-4d48-813c-7ea752d69fd1\n",
      "Name: athlete_id, dtype: object\n",
      "0    64c57ea9-ce79-421c-b38b-2a4bd5613053\n",
      "Name: athlete_id, dtype: object\n",
      "0    21a59223-121b-4418-87ce-f4985a3466fa\n",
      "Name: athlete_id, dtype: object\n",
      "0    20414b56-6832-4e4c-8750-1e28a5a15e55\n",
      "Name: athlete_id, dtype: object\n",
      "0    ca83ecda-125b-4d01-984a-bd0c96ec672a\n",
      "Name: athlete_id, dtype: object\n",
      "0    97977419-7aca-41d0-97f8-8a825600d1b4\n",
      "Name: athlete_id, dtype: object\n",
      "0    9d5dc314-5778-4510-9f60-a2e44c4acbaf\n",
      "Name: athlete_id, dtype: object\n",
      "0    eafb3b02-8f41-4723-a383-6d88116deaac\n",
      "Name: athlete_id, dtype: object\n",
      "0    dc9789ed-25d5-4803-b053-bbf97f6af37e\n",
      "Name: athlete_id, dtype: object\n",
      "0    2788f453-34e8-4450-ac8d-bbd467c3abc0\n",
      "Name: athlete_id, dtype: object\n",
      "0    b05122c9-25dc-4924-a3b5-5467f3d2d737\n",
      "Name: athlete_id, dtype: object\n",
      "0    40402c38-109c-4a96-93a6-f8760e0de30b\n",
      "Name: athlete_id, dtype: object\n",
      "0    9c44cfc9-f322-47b1-863c-af29eaeef6d9\n",
      "Name: athlete_id, dtype: object\n",
      "0    09df479f-503d-4015-bf67-d069b75abb31\n",
      "Name: athlete_id, dtype: object\n"
     ]
    }
   ],
   "source": [
    "# IMPORTS\n",
    "import pandas as pd\n",
    "import os\n",
    "from datapreparation import *\n",
    "\n",
    "# OTHER SETUP\n",
    "\n",
    "dir_list = os.listdir(\"./raw_data\")\n",
    "\n",
    "# Used for debugging ... this is not the problem\n",
    "# print(dir_list, type(dir_list))\n",
    "# for file in dir_list:\n",
    "#     print(file)\n",
    "\n",
    "\n",
    "\n",
    "# Loading the Data\n",
    "\n",
    "full_game_player_dds = []\n",
    "for file in dir_list:\n",
    "    if file[-4:]==\".csv\":\n",
    "        full_game_player_dds.append(load_to_dask_df(file))\n",
    "\n",
    "# debugging above\n",
    "print(len(full_game_player_dds)) # <- returned 15 ... also not the issue\n",
    "\n",
    "for player in full_game_player_dds:\n",
    "    print(player.athlete_id.unique().compute())"
   ],
   "metadata": {
    "collapsed": false,
    "pycharm": {
     "name": "#%%\n"
    }
   }
  },
  {
   "cell_type": "code",
   "execution_count": null,
   "outputs": [],
   "source": [],
   "metadata": {
    "collapsed": false,
    "pycharm": {
     "name": "#%%\n"
    }
   }
  }
 ],
 "metadata": {
  "kernelspec": {
   "display_name": "Python 3",
   "language": "python",
   "name": "python3"
  },
  "language_info": {
   "codemirror_mode": {
    "name": "ipython",
    "version": 2
   },
   "file_extension": ".py",
   "mimetype": "text/x-python",
   "name": "python",
   "nbconvert_exporter": "python",
   "pygments_lexer": "ipython2",
   "version": "2.7.6"
  }
 },
 "nbformat": 4,
 "nbformat_minor": 0
}