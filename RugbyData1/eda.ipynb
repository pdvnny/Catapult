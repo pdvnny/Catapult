{
 "cells": [
  {
   "cell_type": "markdown",
   "metadata": {
    "collapsed": true,
    "pycharm": {
     "name": "#%% md\n"
    }
   },
   "source": [
    "## Parker Dunn\n",
    "# Exploring Ruby player tracking data from Catapult\n",
    "\n",
    "### Started on 7 March 2022\n",
    "### Updates\n",
    "* March 7 -> getting things setup; mostly working in `datapreparation.py`\n",
    "* March 8 -> continuing to work on *eda*\n",
    "    * Working with time to understand the structure of the data relative to the match\n",
    "    * Working through bugs with DataFrames:\n",
    "        1. trying to keep the column information readily available in GameData class\n",
    "        2. Trying to separate the full player data into two halves"
   ]
  },
  {
   "cell_type": "code",
   "execution_count": 1,
   "outputs": [
    {
     "name": "stdout",
     "output_type": "stream",
     "text": [
      "Length of 1st Half:\n",
      " cs: 2474\n",
      " Clock: 41:14.0\n",
      "Length of 2nd Half:\n",
      " cs: 2502\n",
      " Clock: 41:42.0\n",
      "\n",
      "FIRST HALF\n",
      "Start: Sat Feb 29 09:59:36 2020\n",
      "End: Sat Feb 29 10:40:50 2020\n"
     ]
    }
   ],
   "source": [
    "# IMPORTS\n",
    "import pandas as pd\n",
    "import os\n",
    "from datapreparation import *\n",
    "from time import ctime\n",
    "from matplotlib import pyplot\n",
    "\n",
    "# OTHER SETUP\n",
    "\n",
    "dir_list = os.listdir(\"./raw_data\")\n",
    "\n",
    "# Used for debugging ... this is not the problem\n",
    "# print(dir_list, type(dir_list))\n",
    "# for file in dir_list:\n",
    "#     print(file)\n",
    "\n",
    "\n",
    "\n",
    "# CREATING GAME DATA OBJECT\n",
    "\n",
    "# ALL MANUALLY ENTERED TIMES ARE IN SECONDS\n",
    "h1_start = 1582988376\n",
    "h1_end = 1582990850\n",
    "h1_length = h1_end - h1_start       # <- this is in seconds\n",
    "h1_clock = centiseconds_to_clock(h1_length*100)\n",
    "\n",
    "print(f\"Length of 1st Half:\\n cs: {h1_length}\\n Clock: {h1_clock[0]}:{h1_clock[1]}.{h1_clock[2]}\")\n",
    "\n",
    "h2_start = 1582991486\n",
    "h2_end = 1582993988\n",
    "h2_length = h2_end - h2_start       # <- this is in seconds\n",
    "h2_clock = centiseconds_to_clock(h2_length*100)\n",
    "\n",
    "game1 = GameData(h1_start, h1_end, h2_start, h2_end)\n",
    "\n",
    "# EXPLORING THE TIMING INFO\n",
    "print(f\"Length of 2nd Half:\\n cs: {h2_length}\\n Clock: {h2_clock[0]}:{h2_clock[1]}.{h2_clock[2]}\")\n",
    "\n",
    "# LOOKING DATE & TIME OF MATCH BASED ON UNIX TIME\n",
    "print(\"\\nFIRST HALF\")\n",
    "print(f\"Start: {ctime(h1_start)}\")\n",
    "print(f\"End: {ctime(h1_end)}\")\n",
    "# print(\"--> No idea why the date above is returning 1970 <--\") <-- FIXED THIS"
   ],
   "metadata": {
    "collapsed": false,
    "pycharm": {
     "name": "#%%\n"
    }
   }
  },
  {
   "cell_type": "markdown",
   "source": [
    "__Want to double check my work on the timing stuff__\n",
    "25 minutes seems like a short half, so I decided to check the tape on the game\n",
    "\n",
    "1st Half in Video\n",
    "* Start: 2:45\n",
    "* End: approx. 31:27\n",
    "\n",
    "Notes about 1st Half:\n",
    "* There seems to be a long break at the end of the half where nothing is happening\n",
    "* Both teams are waiting for a final kick at the end of the half that takes a few minutes\n",
    "* WAIT NEVERMIND -> *full game play is happening until at least 30:34*\n",
    "* Actual Game Time for First Half --> 30:34 - 2:45 = approx 28:00\n",
    "\n",
    "2nd Half in Video\n",
    "* Start:\n",
    "* End:"
   ],
   "metadata": {
    "collapsed": false,
    "pycharm": {
     "name": "#%% md\n"
    }
   }
  },
  {
   "cell_type": "code",
   "execution_count": 2,
   "outputs": [
    {
     "name": "stdout",
     "output_type": "stream",
     "text": [
      "df name: 0    16710\n",
      "Name: device_id, dtype: int64 -> ['athlete_id', 'device_id', 'first_name', 'last_name', 'jersey', 'cs_time_unix', 'X', 'Y', 'accel', 'vel', 'smoothed_load', 'period', 'position_name']\n",
      "df name: 0    11354\n",
      "Name: device_id, dtype: int64 -> ['athlete_id', 'device_id', 'first_name', 'last_name', 'jersey', 'cs_time_unix', 'X', 'Y', 'accel', 'vel', 'smoothed_load', 'period', 'position_name']\n",
      "df name: 0    11616\n",
      "Name: device_id, dtype: int64 -> ['athlete_id', 'device_id', 'first_name', 'last_name', 'jersey', 'cs_time_unix', 'X', 'Y', 'accel', 'vel', 'smoothed_load', 'period', 'position_name']\n",
      "df name: 0    14114\n",
      "Name: device_id, dtype: int64 -> ['athlete_id', 'device_id', 'first_name', 'last_name', 'jersey', 'cs_time_unix', 'X', 'Y', 'accel', 'vel', 'smoothed_load', 'period', 'position_name']\n",
      "df name: 0    15952\n",
      "Name: device_id, dtype: int64 -> ['athlete_id', 'device_id', 'first_name', 'last_name', 'jersey', 'cs_time_unix', 'X', 'Y', 'accel', 'vel', 'smoothed_load', 'period', 'position_name']\n",
      "df name: 0    16697\n",
      "Name: device_id, dtype: int64 -> ['athlete_id', 'device_id', 'first_name', 'last_name', 'jersey', 'cs_time_unix', 'X', 'Y', 'accel', 'vel', 'smoothed_load', 'period', 'position_name']\n",
      "df name: 0    16440\n",
      "Name: device_id, dtype: int64 -> ['athlete_id', 'device_id', 'first_name', 'last_name', 'jersey', 'cs_time_unix', 'X', 'Y', 'accel', 'vel', 'smoothed_load', 'period', 'position_name']\n",
      "df name: 0    13116\n",
      "Name: device_id, dtype: int64 -> ['athlete_id', 'device_id', 'first_name', 'last_name', 'jersey', 'cs_time_unix', 'X', 'Y', 'accel', 'vel', 'smoothed_load', 'period', 'position_name']\n",
      "df name: 0    16011\n",
      "Name: device_id, dtype: int64 -> ['athlete_id', 'device_id', 'first_name', 'last_name', 'jersey', 'cs_time_unix', 'X', 'Y', 'accel', 'vel', 'smoothed_load', 'period', 'position_name']\n",
      "df name: 0    15463\n",
      "Name: device_id, dtype: int64 -> ['athlete_id', 'device_id', 'first_name', 'last_name', 'jersey', 'cs_time_unix', 'X', 'Y', 'accel', 'vel', 'smoothed_load', 'period', 'position_name']\n",
      "df name: 0    17820\n",
      "Name: device_id, dtype: int64 -> ['athlete_id', 'device_id', 'first_name', 'last_name', 'jersey', 'cs_time_unix', 'X', 'Y', 'accel', 'vel', 'smoothed_load', 'period', 'position_name']\n",
      "df name: 0    16748\n",
      "Name: device_id, dtype: int64 -> ['athlete_id', 'device_id', 'first_name', 'last_name', 'jersey', 'cs_time_unix', 'X', 'Y', 'accel', 'vel', 'smoothed_load', 'period', 'position_name']\n",
      "df name: 0    12974\n",
      "Name: device_id, dtype: int64 -> ['athlete_id', 'device_id', 'first_name', 'last_name', 'jersey', 'cs_time_unix', 'X', 'Y', 'accel', 'vel', 'smoothed_load', 'period', 'position_name']\n",
      "df name: 0    15853\n",
      "Name: device_id, dtype: int64 -> ['athlete_id', 'device_id', 'first_name', 'last_name', 'jersey', 'cs_time_unix', 'X', 'Y', 'accel', 'vel', 'smoothed_load', 'period', 'position_name']\n",
      "df name: 0    16508\n",
      "Name: device_id, dtype: int64 -> ['athlete_id', 'device_id', 'first_name', 'last_name', 'jersey', 'cs_time_unix', 'X', 'Y', 'accel', 'vel', 'smoothed_load', 'period', 'position_name']\n"
     ]
    }
   ],
   "source": [
    "# Loading the Data\n",
    "\n",
    "full_game_player_dds = []\n",
    "for file in dir_list:\n",
    "    if file[-4:]==\".csv\":\n",
    "        player_dd = load_to_dask_df(file)\n",
    "        # print(type(player_dd))\n",
    "        full_game_player_dds.append(player_dd)\n",
    "\n",
    "# debugging above\n",
    "\n",
    "# print(len(full_game_player_dds)) # <- returned 15 ... also not the issue\n",
    "# for player in full_game_player_dds:\n",
    "#     # print(type(player)) # <-- 'dask.dataframe.core.DataFrame'\n",
    "#     print(str(player.athlete_id.unique().compute())) # <-- does return athlete_id object\n",
    "#     # print(player.columns) # <--- aaahhhh this returns an Index Object ... not a\n",
    "#     print(list(player.columns.array))\n",
    "#     # print(player.columns.data) # <-- this doesn't work\n",
    "\n",
    "# WRITING THE INFORMATION ABOUT THE PLAYER DataFrame to GameData object\n",
    "for player in full_game_player_dds:\n",
    "    key = str(player.device_id.unique().compute())\n",
    "    cols = list(player.columns.array)\n",
    "    game1.store_df_features(key, cols)\n",
    "\n",
    "game1.print_df_features()"
   ],
   "metadata": {
    "collapsed": false,
    "pycharm": {
     "name": "#%%\n"
    }
   }
  },
  {
   "cell_type": "markdown",
   "source": [
    "__Not sure if it is a problem yet that these are not \"neat\" data types (ABOVE)__\n",
    "* Feels like it would be better if then \"name\" (a.k.a. the dictionary key) was just a simple object type"
   ],
   "metadata": {
    "collapsed": false,
    "pycharm": {
     "name": "#%% md\n"
    }
   }
  },
  {
   "cell_type": "code",
   "execution_count": 4,
   "outputs": [
    {
     "name": "stdout",
     "output_type": "stream",
     "text": [
      "1st Half player data: 15\n",
      "2nd Half player data: 15\n"
     ]
    }
   ],
   "source": [
    "# Splitting the player data into two halves\n",
    "\n",
    "h1_player_dds = []\n",
    "h2_player_dds = []\n",
    "for full_game_player in full_game_player_dds:\n",
    "    h1_player, h2_player = split_into_halves(game1, full_game_player)\n",
    "    h1_player_dds.append(h1_player)\n",
    "    h2_player_dds.append(h2_player)\n",
    "\n",
    "# Double checking that above is working\n",
    "print(f\"1st Half player data: {len(h1_player_dds)}\")\n",
    "print(f\"2nd Half player data: {len(h2_player_dds)}\")"
   ],
   "metadata": {
    "collapsed": false,
    "pycharm": {
     "name": "#%%\n"
    }
   }
  },
  {
   "cell_type": "markdown",
   "source": [
    "### NEXT UP:\n",
    "* I think I will jump to another script to do some data visualization\n",
    "    * Should create function to add new \"game_time\" feature that scales all of the unix times to time since the start of the half\n",
    "\n",
    "\n",
    "* When I come back...\n",
    "    1. Add a new time feature to DataFrames - plan to create a function to take care of it\n",
    "    2. Consider merging all of the data frames by half ... would make it easier to manipulate the player data within time frames\n",
    "        * Simple extract a time frame then manipulate all players in a single DataFrame\n"
   ],
   "metadata": {
    "collapsed": false,
    "pycharm": {
     "name": "#%% md\n"
    }
   }
  }
 ],
 "metadata": {
  "kernelspec": {
   "display_name": "Python 3",
   "language": "python",
   "name": "python3"
  },
  "language_info": {
   "codemirror_mode": {
    "name": "ipython",
    "version": 2
   },
   "file_extension": ".py",
   "mimetype": "text/x-python",
   "name": "python",
   "nbconvert_exporter": "python",
   "pygments_lexer": "ipython2",
   "version": "2.7.6"
  }
 },
 "nbformat": 4,
 "nbformat_minor": 0
}